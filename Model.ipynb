{
 "cells": [
  {
   "cell_type": "markdown",
   "id": "247abee1-5249-4d10-952a-594d0d65bec4",
   "metadata": {},
   "source": [
    "# AI-Legal-Summarizer\n",
    "\n",
    "Problem Description: Develop an AI-powered system to analyze and summarize legal documents, court judgments, and laws, making them more accessible to citizens. The system should extract key details like dates, parties, and case outcomes while handling complex legal jargon and retaining essential information."
   ]
  },
  {
   "cell_type": "markdown",
   "id": "66135ecd-550d-47ef-b8bb-7cdd6a9bbb0d",
   "metadata": {},
   "source": [
    "## Loading Legal Documents"
   ]
  },
  {
   "cell_type": "code",
   "execution_count": 1,
   "id": "2f89b0ab-e888-4a66-91de-d4108c8b75b8",
   "metadata": {},
   "outputs": [],
   "source": [
    "from langchain_community.document_loaders import PyPDFLoader, Docx2txtLoader\n",
    "from langchain.text_splitter import RecursiveCharacterTextSplitter\n",
    "from langchain_community.vectorstores import Chroma\n",
    "from langchain_openai import OpenAIEmbeddings"
   ]
  },
  {
   "cell_type": "code",
   "execution_count": 2,
   "id": "1aa414ee-6c12-4b3e-ad6c-c3e50f515274",
   "metadata": {},
   "outputs": [],
   "source": [
    "# Load Legal Documents\n",
    "doc_paths = [\"court_case.pdf\", \"constitution.pdf\"]\n",
    "docs = []\n",
    "\n",
    "for doc_file in doc_paths:\n",
    "    if doc_file.endswith(\".pdf\"):\n",
    "        loader = PyPDFLoader(doc_file)\n",
    "    elif doc_file.endswith(\".docx\"):\n",
    "        loader = Docx2txtLoader(doc_file)\n",
    "    else:\n",
    "        continue\n",
    "\n",
    "    docs.extend(loader.load())"
   ]
  },
  {
   "cell_type": "code",
   "execution_count": 3,
   "id": "adcae49f-98a6-4b4b-ad4b-9e825b8f7a50",
   "metadata": {},
   "outputs": [],
   "source": [
    "# Split Text into Chunks\n",
    "text_splitter = RecursiveCharacterTextSplitter(chunk_size=2000, chunk_overlap=300)\n",
    "document_chunks = text_splitter.split_documents(docs)\n",
    "\n",
    "# Store in Vector Database\n",
    "vector_db = Chroma.from_documents(document_chunks, OpenAIEmbeddings())"
   ]
  },
  {
   "cell_type": "markdown",
   "id": "354e26ab-3c7b-4797-b3cf-54053d5e2f0a",
   "metadata": {},
   "source": [
    "## Creating a Context-Aware Retreival Chain"
   ]
  },
  {
   "cell_type": "code",
   "execution_count": 6,
   "id": "a675b23e-4613-4400-a585-356b924b7e1d",
   "metadata": {},
   "outputs": [],
   "source": [
    "from langchain.chains import create_history_aware_retriever, create_retrieval_chain\n",
    "from langchain_core.prompts import ChatPromptTemplate, MessagesPlaceholder\n",
    "\n",
    "# Retrieval Chain\n",
    "def _get_context_retriever_chain(vector_db, llm):\n",
    "    retriever = vector_db.as_retriever()\n",
    "\n",
    "    prompt = ChatPromptTemplate.from_messages([\n",
    "        MessagesPlaceholder(variable_name=\"messages\"),\n",
    "        (\"user\", \"{input}\"),\n",
    "        (\"user\", \"Based on the query, retrieve the most relevant legal information, including case dates, parties, and judgments.\"),\n",
    "    ])\n",
    "    return create_history_aware_retriever(llm, retriever, prompt)"
   ]
  },
  {
   "cell_type": "markdown",
   "id": "ce35c537-4bb5-4cc2-afb2-52e59032f63d",
   "metadata": {},
   "source": [
    "## Summarization Chain"
   ]
  },
  {
   "cell_type": "code",
   "execution_count": 13,
   "id": "c409a7f9-13cc-465e-ab52-7efaf3766290",
   "metadata": {},
   "outputs": [],
   "source": [
    "from langchain.chains.combine_documents import create_stuff_documents_chain\n",
    "from langchain_openai import ChatOpenAI\n",
    "from langchain.schema import HumanMessage, AIMessage\n",
    "\n",
    "llm = ChatOpenAI(model=\"gpt-4o\", temperature=0.2)\n",
    "\n",
    "def get_legal_summary_chain(llm):\n",
    "    retriever_chain = _get_context_retriever_chain(vector_db, llm)\n",
    "\n",
    "    prompt = ChatPromptTemplate.from_messages([\n",
    "        (\"system\",\n",
    "         \"\"\"You are an AI assistant specializing in summarizing legal documents.\n",
    "         Your task is to extract key details such as case title, court name, judgment date,\n",
    "         parties involved, legal provisions, arguments, and final verdict.\n",
    "         \n",
    "         You will use the provided context, but if the context is not sufficient, rely on your general knowledge.\n",
    "         \n",
    "         Context:\n",
    "         {context}\"\"\"),  \n",
    "        MessagesPlaceholder(variable_name=\"messages\"),\n",
    "        (\"user\", \"{input}\"),\n",
    "    ])\n",
    "\n",
    "    summarization_chain = create_stuff_documents_chain(llm, prompt)\n",
    "\n",
    "    return create_retrieval_chain(retriever_chain, summarization_chain)\n"
   ]
  },
  {
   "cell_type": "code",
   "execution_count": 12,
   "id": "b0503001-d0f0-4531-aae4-0cb617c46e75",
   "metadata": {},
   "outputs": [
    {
     "name": "stdout",
     "output_type": "stream",
     "text": [
      "Based on the provided context, the case titled \"Child in Conflict with Law through his Mother vs. State of Karnataka and Another\" was heard in the Supreme Court of India, with the judgment delivered by Justices C.T. Ravikumar and Rajesh Bindal. The case involved an appeal by a Child in Conflict with Law (CCL) against an order from the High Court, which had set aside a decision by the Juvenile Justice Board.\n",
      "\n",
      "Key details include:\n",
      "\n",
      "- **Judgment Date**: May 7, 2024\n",
      "- **Parties Involved**: \n",
      "  - Appellant: Child in Conflict with Law through his Mother\n",
      "  - Respondents: State of Karnataka and Another\n",
      "- **Legal Provisions**: The case involved sections 376(i), 342 of the Indian Penal Code (IPC), and sections 4, 5, 6, 7, and 8 of the Protection of Children from Sexual Offences Act, 2012. It also referenced Section 7(4) of the Juvenile Justice Act.\n",
      "- **Arguments**: The main issue was whether the CCL should be tried by the Juvenile Justice Board or as an adult by the Children's Court. The Principal Magistrate initially decided for a trial as an adult, but a dissenting opinion by another Board member led to complications.\n",
      "- **Final Verdict**: The Supreme Court granted leave to appeal, recognizing the appellant's right to challenge the decision directing a trial by the Children's Court. The Court emphasized the importance of the Principal Magistrate's opinion prevailing in the absence of a majority, as per Section 7(4) of the Act.\n",
      "\n",
      "The case highlights procedural issues within the Juvenile Justice Board and the rights of the CCL to appeal decisions affecting their trial process."
     ]
    }
   ],
   "source": [
    "conversation_rag_chain = get_legal_summary_chain(llm)\n",
    "\n",
    "messages = [\n",
    "    {\"role\": \"user\", \"content\": \"Summarize the case 'XYZ vs ABC'.\"}\n",
    "]\n",
    "\n",
    "messages = [HumanMessage(content=m[\"content\"]) if m[\"role\"] == \"user\" else AIMessage(content=m[\"content\"]) for m in messages]\n",
    "\n",
    "response_message = \"*(Legal Summary)*\\n\"\n",
    "for chunk in conversation_rag_chain.pick(\"answer\").stream({\"messages\": messages[:-1], \"input\": messages[-1].content}):\n",
    "    response_message += chunk\n",
    "    print(chunk, end=\"\", flush=True)"
   ]
  },
  {
   "cell_type": "code",
   "execution_count": null,
   "id": "9943b84e-3c02-45e5-82de-2c9888443f52",
   "metadata": {},
   "outputs": [],
   "source": []
  }
 ],
 "metadata": {
  "kernelspec": {
   "display_name": "Python 3 (ipykernel)",
   "language": "python",
   "name": "python3"
  },
  "language_info": {
   "codemirror_mode": {
    "name": "ipython",
    "version": 3
   },
   "file_extension": ".py",
   "mimetype": "text/x-python",
   "name": "python",
   "nbconvert_exporter": "python",
   "pygments_lexer": "ipython3",
   "version": "3.12.7"
  }
 },
 "nbformat": 4,
 "nbformat_minor": 5
}
